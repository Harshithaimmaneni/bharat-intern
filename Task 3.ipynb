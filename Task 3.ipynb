{
 "cells": [
  {
   "cell_type": "markdown",
   "id": "c3efb588",
   "metadata": {},
   "source": [
    "# Importing Libraries"
   ]
  },
  {
   "cell_type": "code",
   "execution_count": 28,
   "id": "756b712e",
   "metadata": {},
   "outputs": [],
   "source": [
    "import keras\n",
    "from keras.datasets import mnist\n",
    "from keras.models import Sequential\n",
    "from keras.layers import Dense,Dropout,Flatten\n",
    "from keras.layers import Conv2D,MaxPooling2D\n",
    "from keras import backend as K\n",
    "from keras import optimizers"
   ]
  },
  {
   "cell_type": "markdown",
   "id": "d5673957",
   "metadata": {},
   "source": [
    "# Spliting the data into train and test"
   ]
  },
  {
   "cell_type": "code",
   "execution_count": 4,
   "id": "fe588470",
   "metadata": {},
   "outputs": [],
   "source": [
    "(x_train,y_train),(x_test,y_test)=mnist.load_data()"
   ]
  },
  {
   "cell_type": "code",
   "execution_count": 5,
   "id": "a684b1bb",
   "metadata": {},
   "outputs": [],
   "source": [
    "X_train=x_train.reshape(x_train.shape[0],28,28,1)\n",
    "x_test=x_test.reshape(x_test.shape[0],28,28,1)\n",
    "input_shape=(28,28,1)"
   ]
  },
  {
   "cell_type": "markdown",
   "id": "c022a43e",
   "metadata": {},
   "source": [
    "# Converting class vectors into binary"
   ]
  },
  {
   "cell_type": "code",
   "execution_count": 7,
   "id": "2b2b3b3b",
   "metadata": {},
   "outputs": [],
   "source": [
    "y_train=keras.utils.to_categorical(y_train,10)\n",
    "y_test=keras.utils.to_categorical(y_test,10)"
   ]
  },
  {
   "cell_type": "code",
   "execution_count": 8,
   "id": "c50eae4c",
   "metadata": {},
   "outputs": [],
   "source": [
    "x_train=x_train.astype(\"float32\")\n",
    "x_test=x_test.astype(\"float32\")"
   ]
  },
  {
   "cell_type": "code",
   "execution_count": 9,
   "id": "79209ab9",
   "metadata": {},
   "outputs": [],
   "source": [
    "x_train/=255\n",
    "x_test/=255"
   ]
  },
  {
   "cell_type": "markdown",
   "id": "451d0f52",
   "metadata": {},
   "source": [
    "printing layers"
   ]
  },
  {
   "cell_type": "code",
   "execution_count": 10,
   "id": "31e24183",
   "metadata": {},
   "outputs": [],
   "source": [
    "batch_size=128\n",
    "num_classes=10\n",
    "epochs=10"
   ]
  },
  {
   "cell_type": "code",
   "execution_count": 18,
   "id": "350df8eb",
   "metadata": {},
   "outputs": [],
   "source": [
    "model = Sequential()\n",
    "model.add(Conv2D(32, kernel_size=(5, 5), activation='relu', input_shape=input_shape))\n",
    "model.add(MaxPooling2D(pool_size=(2, 2)))\n",
    "model.add(Conv2D(64, kernel_size=(5, 5), activation='relu'))\n",
    "model.add(MaxPooling2D(pool_size=(2, 2)))\n",
    "model.add(Flatten())\n",
    "model.add(Dense(128, activation='relu'))\n",
    "model.add(Dropout(0.3))\n",
    "model.add(Dense(64, activation='relu'))\n",
    "model.add(Dropout(0.5))\n",
    "model.add(Dense(num_classes, activation='softmax'))"
   ]
  },
  {
   "cell_type": "code",
   "execution_count": 30,
   "id": "460e88e9",
   "metadata": {},
   "outputs": [
    {
     "name": "stdout",
     "output_type": "stream",
     "text": [
      "Note: you may need to restart the kernel to use updated packages.Requirement already satisfied: keras in c:\\users\\imman\\anaconda3\\anaconda\\lib\\site-packages (2.11.0)\n",
      "\n"
     ]
    },
    {
     "name": "stderr",
     "output_type": "stream",
     "text": [
      "\n",
      "[notice] A new release of pip is available: 23.0.1 -> 23.1.2\n",
      "[notice] To update, run: python.exe -m pip install --upgrade pip\n"
     ]
    }
   ],
   "source": [
    "pip install keras"
   ]
  },
  {
   "cell_type": "code",
   "execution_count": 31,
   "id": "9213ecca",
   "metadata": {},
   "outputs": [
    {
     "name": "stdout",
     "output_type": "stream",
     "text": [
      "Epoch 1/10\n",
      "469/469 [==============================] - 46s 88ms/step - loss: 0.3917 - accuracy: 0.8785 - val_loss: 0.0584 - val_accuracy: 0.9827\n",
      "Epoch 2/10\n",
      "469/469 [==============================] - 48s 101ms/step - loss: 0.1038 - accuracy: 0.9730 - val_loss: 0.0431 - val_accuracy: 0.9871\n",
      "Epoch 3/10\n",
      "469/469 [==============================] - 47s 99ms/step - loss: 0.0724 - accuracy: 0.9810 - val_loss: 0.0327 - val_accuracy: 0.9902\n",
      "Epoch 4/10\n",
      "469/469 [==============================] - 45s 97ms/step - loss: 0.0573 - accuracy: 0.9857 - val_loss: 0.0323 - val_accuracy: 0.9913\n",
      "Epoch 5/10\n",
      "469/469 [==============================] - 44s 95ms/step - loss: 0.0475 - accuracy: 0.9878 - val_loss: 0.0437 - val_accuracy: 0.9883\n",
      "Epoch 6/10\n",
      "469/469 [==============================] - 47s 100ms/step - loss: 0.0395 - accuracy: 0.9896 - val_loss: 0.0301 - val_accuracy: 0.9916\n",
      "Epoch 7/10\n",
      "469/469 [==============================] - 44s 93ms/step - loss: 0.0355 - accuracy: 0.9912 - val_loss: 0.0326 - val_accuracy: 0.9911\n",
      "Epoch 8/10\n",
      "469/469 [==============================] - 43s 92ms/step - loss: 0.0313 - accuracy: 0.9916 - val_loss: 0.0427 - val_accuracy: 0.9914\n",
      "Epoch 9/10\n",
      "469/469 [==============================] - 41s 87ms/step - loss: 0.0265 - accuracy: 0.9930 - val_loss: 0.0278 - val_accuracy: 0.9922\n",
      "Epoch 10/10\n",
      "469/469 [==============================] - 40s 86ms/step - loss: 0.0241 - accuracy: 0.9937 - val_loss: 0.0414 - val_accuracy: 0.9907\n"
     ]
    }
   ],
   "source": [
    "from keras.optimizers import Adam\n",
    "\n",
    "model.compile(loss=keras.losses.categorical_crossentropy, optimizer=Adam(),\n",
    "              metrics=['accuracy'])\n",
    "hist = model.fit(x_train, y_train, batch_size=batch_size, epochs=epochs, verbose=1,\n",
    "                 validation_data=(x_test, y_test))\n",
    "score = model.evaluate(x_test, y_test, verbose=0)\n"
   ]
  },
  {
   "cell_type": "code",
   "execution_count": 32,
   "id": "e600f215",
   "metadata": {},
   "outputs": [
    {
     "name": "stdout",
     "output_type": "stream",
     "text": [
      "loss 0.04135320335626602\n",
      "accuracy 0.9907000064849854\n"
     ]
    }
   ],
   "source": [
    "print(\"loss\",score[0])\n",
    "print(\"accuracy\",score[1])"
   ]
  },
  {
   "cell_type": "code",
   "execution_count": 34,
   "id": "f1a50367",
   "metadata": {},
   "outputs": [],
   "source": [
    "model.save('mnist.h5')"
   ]
  },
  {
   "cell_type": "code",
   "execution_count": 36,
   "id": "1336713b",
   "metadata": {},
   "outputs": [
    {
     "name": "stdout",
     "output_type": "stream",
     "text": [
      "313/313 [==============================] - 3s 8ms/step\n",
      "Accuracy: 0.9907\n"
     ]
    }
   ],
   "source": [
    "# Assuming you have loaded the test data as `x_test` and `y_test`\n",
    "\n",
    "# Load the saved model\n",
    "from keras.models import load_model\n",
    "\n",
    "model = load_model('mnist.h5')\n",
    "\n",
    "# Perform predictions on the test data\n",
    "predictions = model.predict(x_test)\n",
    "\n",
    "# You can then evaluate the accuracy or perform further analysis on the predictions\n",
    "# For example, to evaluate accuracy:\n",
    "from sklearn.metrics import accuracy_score\n",
    "\n",
    "# Convert the predictions from one-hot encoded format to class labels\n",
    "predicted_labels = predictions.argmax(axis=1)\n",
    "true_labels = y_test.argmax(axis=1)\n",
    "\n",
    "# Calculate the accuracy\n",
    "accuracy = accuracy_score(true_labels, predicted_labels)\n",
    "print(\"Accuracy:\", accuracy)\n"
   ]
  },
  {
   "cell_type": "code",
   "execution_count": null,
   "id": "f8c64394",
   "metadata": {},
   "outputs": [],
   "source": []
  }
 ],
 "metadata": {
  "kernelspec": {
   "display_name": "Python 3 (ipykernel)",
   "language": "python",
   "name": "python3"
  },
  "language_info": {
   "codemirror_mode": {
    "name": "ipython",
    "version": 3
   },
   "file_extension": ".py",
   "mimetype": "text/x-python",
   "name": "python",
   "nbconvert_exporter": "python",
   "pygments_lexer": "ipython3",
   "version": "3.9.12"
  }
 },
 "nbformat": 4,
 "nbformat_minor": 5
}
