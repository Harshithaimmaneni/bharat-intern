{
 "cells": [
  {
   "cell_type": "markdown",
   "id": "03bd43a2",
   "metadata": {},
   "source": [
    "# Stock Prediction :\n",
    "Take stock price of any company you want and predicts its price by using LSTM. Use only Jupyter notebook code."
   ]
  },
  {
   "cell_type": "markdown",
   "id": "a7a8f71e",
   "metadata": {},
   "source": [
    "# importing libraries"
   ]
  },
  {
   "cell_type": "code",
   "execution_count": 29,
   "id": "de6f73c2",
   "metadata": {},
   "outputs": [],
   "source": [
    "import pandas as pd\n",
    "import numpy as np\n",
    "import matplotlib.pyplot as plt\n",
    "import seaborn as sns\n",
    "import datetime\n",
    "from sklearn.preprocessing import MinMaxScaler\n",
    "from sklearn.metrics import mean_squared_error"
   ]
  },
  {
   "cell_type": "code",
   "execution_count": 30,
   "id": "54c4d5e8",
   "metadata": {},
   "outputs": [],
   "source": [
    "from keras.layers import Dense\n",
    "from keras.models import Sequential\n",
    "import keras.backend as K\n",
    "from keras.callbacks import EarlyStopping"
   ]
  },
  {
   "cell_type": "code",
   "execution_count": 31,
   "id": "84500d4e",
   "metadata": {},
   "outputs": [],
   "source": [
    "import datetime"
   ]
  },
  {
   "cell_type": "code",
   "execution_count": 32,
   "id": "f5937279",
   "metadata": {},
   "outputs": [],
   "source": [
    "import warnings\n",
    "warnings.filterwarnings(\"ignore\")\n",
    "\n",
    "from sklearn.metrics import r2_score\n",
    "\n",
    "from tensorflow.keras.callbacks import EarlyStopping\n",
    "from keras.optimizers import Adam\n",
    "from keras.layers import LSTM, Dropout, Dense\n"
   ]
  },
  {
   "cell_type": "code",
   "execution_count": 33,
   "id": "d18f2f4a",
   "metadata": {},
   "outputs": [],
   "source": [
    "import yfinance as yf"
   ]
  },
  {
   "cell_type": "code",
   "execution_count": 34,
   "id": "c5cbdbb1",
   "metadata": {},
   "outputs": [
    {
     "name": "stdout",
     "output_type": "stream",
     "text": [
      "[*********************100%***********************]  1 of 1 completed\n"
     ]
    }
   ],
   "source": [
    "start = datetime.datetime(2014,10,1)\n",
    "end = datetime.datetime(2023,4,20)\n",
    "data = yf.download(['HDFCBANK.NS'], start=start, end=end)"
   ]
  },
  {
   "cell_type": "code",
   "execution_count": 35,
   "id": "5da7fd19",
   "metadata": {},
   "outputs": [],
   "source": [
    "data.reset_index(inplace=True)"
   ]
  },
  {
   "cell_type": "code",
   "execution_count": 36,
   "id": "03545acd",
   "metadata": {},
   "outputs": [],
   "source": [
    "data['Date'] = data['Date'].dt.date"
   ]
  },
  {
   "cell_type": "code",
   "execution_count": 37,
   "id": "b9f094f3",
   "metadata": {},
   "outputs": [
    {
     "name": "stdout",
     "output_type": "stream",
     "text": [
      "         Date        Open        High         Low       Close   Adj Close  \\\n",
      "0  2014-10-01  433.000000  435.575012  430.250000  434.000000  406.950714   \n",
      "1  2014-10-07  432.500000  433.500000  427.049988  431.225006  404.348724   \n",
      "2  2014-10-08  430.274994  435.000000  429.149994  433.799988  406.763153   \n",
      "3  2014-10-09  437.000000  446.475006  434.125000  443.799988  416.139923   \n",
      "4  2014-10-10  441.524994  442.575012  432.450012  433.649994  406.622528   \n",
      "\n",
      "    Volume  \n",
      "0  2935094  \n",
      "1  2513144  \n",
      "2  1570192  \n",
      "3  3825210  \n",
      "4  2133490  \n"
     ]
    }
   ],
   "source": [
    "print(data.head())"
   ]
  },
  {
   "cell_type": "code",
   "execution_count": 38,
   "id": "c8ee7bc0",
   "metadata": {},
   "outputs": [],
   "source": [
    "data = data.loc[:,['Date', 'Close']]\n",
    "data['Date'] = pd.to_datetime(data['Date'])\n",
    "data = data.set_index('Date')"
   ]
  },
  {
   "cell_type": "code",
   "execution_count": 39,
   "id": "e85276b9",
   "metadata": {},
   "outputs": [
    {
     "data": {
      "text/html": [
       "<div>\n",
       "<style scoped>\n",
       "    .dataframe tbody tr th:only-of-type {\n",
       "        vertical-align: middle;\n",
       "    }\n",
       "\n",
       "    .dataframe tbody tr th {\n",
       "        vertical-align: top;\n",
       "    }\n",
       "\n",
       "    .dataframe thead th {\n",
       "        text-align: right;\n",
       "    }\n",
       "</style>\n",
       "<table border=\"1\" class=\"dataframe\">\n",
       "  <thead>\n",
       "    <tr style=\"text-align: right;\">\n",
       "      <th></th>\n",
       "      <th>Close</th>\n",
       "    </tr>\n",
       "    <tr>\n",
       "      <th>Date</th>\n",
       "      <th></th>\n",
       "    </tr>\n",
       "  </thead>\n",
       "  <tbody>\n",
       "    <tr>\n",
       "      <th>2014-10-01</th>\n",
       "      <td>434.000000</td>\n",
       "    </tr>\n",
       "    <tr>\n",
       "      <th>2014-10-07</th>\n",
       "      <td>431.225006</td>\n",
       "    </tr>\n",
       "    <tr>\n",
       "      <th>2014-10-08</th>\n",
       "      <td>433.799988</td>\n",
       "    </tr>\n",
       "    <tr>\n",
       "      <th>2014-10-09</th>\n",
       "      <td>443.799988</td>\n",
       "    </tr>\n",
       "    <tr>\n",
       "      <th>2014-10-10</th>\n",
       "      <td>433.649994</td>\n",
       "    </tr>\n",
       "    <tr>\n",
       "      <th>...</th>\n",
       "      <td>...</td>\n",
       "    </tr>\n",
       "    <tr>\n",
       "      <th>2023-04-12</th>\n",
       "      <td>1684.900024</td>\n",
       "    </tr>\n",
       "    <tr>\n",
       "      <th>2023-04-13</th>\n",
       "      <td>1692.449951</td>\n",
       "    </tr>\n",
       "    <tr>\n",
       "      <th>2023-04-17</th>\n",
       "      <td>1666.650024</td>\n",
       "    </tr>\n",
       "    <tr>\n",
       "      <th>2023-04-18</th>\n",
       "      <td>1659.599976</td>\n",
       "    </tr>\n",
       "    <tr>\n",
       "      <th>2023-04-19</th>\n",
       "      <td>1665.699951</td>\n",
       "    </tr>\n",
       "  </tbody>\n",
       "</table>\n",
       "<p>2106 rows × 1 columns</p>\n",
       "</div>"
      ],
      "text/plain": [
       "                  Close\n",
       "Date                   \n",
       "2014-10-01   434.000000\n",
       "2014-10-07   431.225006\n",
       "2014-10-08   433.799988\n",
       "2014-10-09   443.799988\n",
       "2014-10-10   433.649994\n",
       "...                 ...\n",
       "2023-04-12  1684.900024\n",
       "2023-04-13  1692.449951\n",
       "2023-04-17  1666.650024\n",
       "2023-04-18  1659.599976\n",
       "2023-04-19  1665.699951\n",
       "\n",
       "[2106 rows x 1 columns]"
      ]
     },
     "execution_count": 39,
     "metadata": {},
     "output_type": "execute_result"
    }
   ],
   "source": [
    "data"
   ]
  },
  {
   "cell_type": "code",
   "execution_count": 40,
   "id": "9e11b6fe",
   "metadata": {},
   "outputs": [
    {
     "data": {
      "text/html": [
       "<div>\n",
       "<style scoped>\n",
       "    .dataframe tbody tr th:only-of-type {\n",
       "        vertical-align: middle;\n",
       "    }\n",
       "\n",
       "    .dataframe tbody tr th {\n",
       "        vertical-align: top;\n",
       "    }\n",
       "\n",
       "    .dataframe thead th {\n",
       "        text-align: right;\n",
       "    }\n",
       "</style>\n",
       "<table border=\"1\" class=\"dataframe\">\n",
       "  <thead>\n",
       "    <tr style=\"text-align: right;\">\n",
       "      <th></th>\n",
       "      <th>Close</th>\n",
       "    </tr>\n",
       "  </thead>\n",
       "  <tbody>\n",
       "    <tr>\n",
       "      <th>count</th>\n",
       "      <td>2106.000000</td>\n",
       "    </tr>\n",
       "    <tr>\n",
       "      <th>mean</th>\n",
       "      <td>1028.463248</td>\n",
       "    </tr>\n",
       "    <tr>\n",
       "      <th>std</th>\n",
       "      <td>374.170946</td>\n",
       "    </tr>\n",
       "    <tr>\n",
       "      <th>min</th>\n",
       "      <td>429.424988</td>\n",
       "    </tr>\n",
       "    <tr>\n",
       "      <th>25%</th>\n",
       "      <td>628.987488</td>\n",
       "    </tr>\n",
       "    <tr>\n",
       "      <th>50%</th>\n",
       "      <td>1037.687500</td>\n",
       "    </tr>\n",
       "    <tr>\n",
       "      <th>75%</th>\n",
       "      <td>1384.149994</td>\n",
       "    </tr>\n",
       "    <tr>\n",
       "      <th>max</th>\n",
       "      <td>1695.500000</td>\n",
       "    </tr>\n",
       "  </tbody>\n",
       "</table>\n",
       "</div>"
      ],
      "text/plain": [
       "             Close\n",
       "count  2106.000000\n",
       "mean   1028.463248\n",
       "std     374.170946\n",
       "min     429.424988\n",
       "25%     628.987488\n",
       "50%    1037.687500\n",
       "75%    1384.149994\n",
       "max    1695.500000"
      ]
     },
     "execution_count": 40,
     "metadata": {},
     "output_type": "execute_result"
    }
   ],
   "source": [
    "data.describe()"
   ]
  },
  {
   "cell_type": "code",
   "execution_count": 41,
   "id": "f73cd88d",
   "metadata": {},
   "outputs": [
    {
     "name": "stdout",
     "output_type": "stream",
     "text": [
      "<class 'pandas.core.frame.DataFrame'>\n",
      "DatetimeIndex: 2106 entries, 2014-10-01 to 2023-04-19\n",
      "Data columns (total 1 columns):\n",
      " #   Column  Non-Null Count  Dtype  \n",
      "---  ------  --------------  -----  \n",
      " 0   Close   2106 non-null   float64\n",
      "dtypes: float64(1)\n",
      "memory usage: 32.9 KB\n"
     ]
    }
   ],
   "source": [
    "data.info()"
   ]
  },
  {
   "cell_type": "markdown",
   "id": "27f1f012",
   "metadata": {},
   "source": [
    "# There are no null values in the dataset"
   ]
  },
  {
   "cell_type": "markdown",
   "id": "08eaa6c2",
   "metadata": {},
   "source": [
    "# Plotting close price value"
   ]
  },
  {
   "cell_type": "code",
   "execution_count": 42,
   "id": "a4ac2dbd",
   "metadata": {},
   "outputs": [
    {
     "data": {
      "image/png": "[encoded data removed]",
      "text/plain": [
       "<Figure size 1152x432 with 1 Axes>"
      ]
     },
     "metadata": {
      "needs_background": "light"
     },
     "output_type": "display_data"
    }
   ],
   "source": [
    "plt.figure(figsize=(16,6))\n",
    "plt.title('Close Price History')\n",
    "plt.plot(data['Close'])\n",
    "plt.xlabel('Date', fontsize=18)\n",
    "plt.ylabel('Close Price USD ($)', fontsize=18)\n",
    "plt.show()"
   ]
  },
  {
   "cell_type": "code",
   "execution_count": 43,
   "id": "1525c610",
   "metadata": {},
   "outputs": [
    {
     "data": {
      "text/plain": [
       "((1800, 1), (307, 1))"
      ]
     },
     "execution_count": 43,
     "metadata": {},
     "output_type": "execute_result"
    }
   ],
   "source": [
    "split_date = pd.Timestamp('2022-01-20')\n",
    "train = data.loc[:split_date, ['Close']]\n",
    "test = data.loc[split_date:, ['Close']]\n",
    "\n",
    "train.shape, test.shape"
   ]
  },
  {
   "cell_type": "code",
   "execution_count": 44,
   "id": "a30712c1",
   "metadata": {},
   "outputs": [],
   "source": [
    "mm = MinMaxScaler()\n",
    "trains = mm.fit_transform(train)\n",
    "tests = mm.transform(test)\n",
    "\n",
    "train = pd.DataFrame(trains, columns=['Close'])\n",
    "test = pd.DataFrame(tests, columns=['Close'])"
   ]
  },
  {
   "cell_type": "code",
   "execution_count": 45,
   "id": "29a25501",
   "metadata": {},
   "outputs": [
    {
     "data": {
      "text/plain": [
       "((1740, 60, 1), (1740, 1, 1))"
      ]
     },
     "execution_count": 45,
     "metadata": {},
     "output_type": "execute_result"
    }
   ],
   "source": [
    "# Creating a data structure with 60 timesteps and 1 output\n",
    "X_train = []\n",
    "y_train = []\n",
    "\n",
    "for i in range(60, train.shape[0]):\n",
    "    X_train.append(train.iloc[i-60:i, 0])\n",
    "    y_train.append(train.iloc[i, 0])\n",
    "\n",
    "X_train, y_train = np.array(X_train), np.array(y_train)\n",
    "\n",
    "## Reshape\n",
    "X_train = np.reshape(X_train, (X_train.shape[0], X_train.shape[1],1))\n",
    "y_train = np.reshape(y_train, (X_train.shape[0], 1,1))\n",
    "X_train.shape, y_train.shape"
   ]
  },
  {
   "cell_type": "markdown",
   "id": "cc4ca56d",
   "metadata": {},
   "source": [
    "the loop iterates over the rows of the train DataFrame to create the input-output pairs for training. The previous 60 values are used as the input sequence, and the value at the ith row is used as the output."
   ]
  },
  {
   "cell_type": "code",
   "execution_count": 46,
   "id": "f927110c",
   "metadata": {},
   "outputs": [
    {
     "data": {
      "text/plain": [
       "((247, 60, 1), (247,))"
      ]
     },
     "execution_count": 46,
     "metadata": {},
     "output_type": "execute_result"
    }
   ],
   "source": [
    "# Creating a data structure with 60 timesteps and 1 output\n",
    "X_test = []\n",
    "y_test = []\n",
    "\n",
    "for i in range(60, test.shape[0]):\n",
    "    X_test.append(test.iloc[i-60:i,0])\n",
    "    y_test.append(test.iloc[i,0])\n",
    "\n",
    "X_test, y_test = np.array(X_test), np.array(y_test)\n",
    "\n",
    "## Reshape\n",
    "X_test = np.reshape(X_test, (X_test.shape[0], X_test.shape[1],1))\n",
    "X_test.shape, y_test.shape"
   ]
  },
  {
   "cell_type": "markdown",
   "id": "b9e695fb",
   "metadata": {},
   "source": [
    "the loop iterates over the rows of the test DataFrame to create the input-output pairs for testing. Similar to the training code snippet, the previous 60 values are used as the input sequence, and the value at the ith row is used as the output"
   ]
  },
  {
   "cell_type": "markdown",
   "id": "6e683220",
   "metadata": {},
   "source": [
    "# Building LSTM"
   ]
  },
  {
   "cell_type": "code",
   "execution_count": 47,
   "id": "0e636c28",
   "metadata": {},
   "outputs": [],
   "source": [
    "early_stop = EarlyStopping(monitor='loss', patience=2)"
   ]
  },
  {
   "cell_type": "code",
   "execution_count": 48,
   "id": "26d320dd",
   "metadata": {},
   "outputs": [
    {
     "name": "stdout",
     "output_type": "stream",
     "text": [
      "Model: \"sequential\"\n",
      "_________________________________________________________________\n",
      " Layer (type)                Output Shape              Param #   \n",
      "=================================================================\n",
      " lstm (LSTM)                 (None, 60, 100)           40800     \n",
      "                                                                 \n",
      " lstm_1 (LSTM)               (None, 60, 50)            30200     \n",
      "                                                                 \n",
      " lstm_2 (LSTM)               (None, 60, 50)            20200     \n",
      "                                                                 \n",
      " lstm_3 (LSTM)               (None, 50)                20200     \n",
      "                                                                 \n",
      " dense (Dense)               (None, 1)                 51        \n",
      "                                                                 \n",
      "=================================================================\n",
      "Total params: 111,451\n",
      "Trainable params: 111,451\n",
      "Non-trainable params: 0\n",
      "_________________________________________________________________\n"
     ]
    }
   ],
   "source": [
    "K.clear_session()\n",
    "\n",
    "lstm_model = Sequential()\n",
    "\n",
    "lstm_model.add(LSTM(100, return_sequences=True, input_shape=(60,1)))\n",
    "\n",
    "lstm_model.add(LSTM(50, return_sequences=True))\n",
    "\n",
    "lstm_model.add(LSTM(50, return_sequences=True))\n",
    "\n",
    "lstm_model.add(LSTM(50))\n",
    "\n",
    "# The output layer\n",
    "lstm_model.add(Dense(units=1, activation='relu'))\n",
    "\n",
    "lstm_model.compile(optimizer='adam', loss='mean_squared_error')\n",
    "lstm_model.summary()"
   ]
  },
  {
   "cell_type": "code",
   "execution_count": 49,
   "id": "58fa0672",
   "metadata": {},
   "outputs": [
    {
     "data": {
      "text/plain": [
       "((1740, 60, 1), (1740,))"
      ]
     },
     "execution_count": 49,
     "metadata": {},
     "output_type": "execute_result"
    }
   ],
   "source": [
    "X_train = np.reshape(X_train, (X_train.shape[0], X_train.shape[1], 1))\n",
    "y_train = np.reshape(y_train, (X_train.shape[0], ))\n",
    "X_train.shape, y_train.shape"
   ]
  },
  {
   "cell_type": "code",
   "execution_count": 50,
   "id": "678d2820",
   "metadata": {},
   "outputs": [
    {
     "data": {
      "text/plain": [
       "((247, 60, 1), (247,))"
      ]
     },
     "execution_count": 50,
     "metadata": {},
     "output_type": "execute_result"
    }
   ],
   "source": [
    "X_test = np.reshape(X_test, (X_test.shape[0], X_test.shape[1], 1))\n",
    "y_test = np.reshape(y_test, (X_test.shape[0], ))\n",
    "X_test.shape, y_test.shape"
   ]
  },
  {
   "cell_type": "code",
   "execution_count": 51,
   "id": "76cfe5d7",
   "metadata": {},
   "outputs": [
    {
     "name": "stdout",
     "output_type": "stream",
     "text": [
      "Epoch 1/100\n",
      "109/109 [==============================] - 27s 111ms/step - loss: 0.0101\n",
      "Epoch 2/100\n",
      "109/109 [==============================] - 12s 108ms/step - loss: 0.0017\n",
      "Epoch 3/100\n",
      "109/109 [==============================] - 12s 108ms/step - loss: 0.0014\n",
      "Epoch 4/100\n",
      "109/109 [==============================] - 15s 135ms/step - loss: 0.0013\n",
      "Epoch 5/100\n",
      "109/109 [==============================] - 12s 111ms/step - loss: 0.0013\n",
      "Epoch 6/100\n",
      "109/109 [==============================] - 12s 107ms/step - loss: 0.0011\n",
      "Epoch 7/100\n",
      "109/109 [==============================] - 12s 114ms/step - loss: 9.4173e-04\n",
      "Epoch 8/100\n",
      "109/109 [==============================] - 12s 114ms/step - loss: 0.0011\n",
      "Epoch 9/100\n",
      "109/109 [==============================] - 13s 121ms/step - loss: 9.5055e-04\n"
     ]
    }
   ],
   "source": [
    "hist2 = lstm_model.fit(X_train, y_train, batch_size=16, epochs=100, callbacks=[early_stop])"
   ]
  },
  {
   "cell_type": "code",
   "execution_count": 55,
   "id": "91b57d90",
   "metadata": {},
   "outputs": [
    {
     "name": "stdout",
     "output_type": "stream",
     "text": [
      "8/8 [==============================] - 0s 55ms/step\n",
      "MAPE: 2.9052606447418574\n",
      "RMSE: 0.03167126592369725\n",
      "R2 Score: 0.8851946882477635\n"
     ]
    }
   ],
   "source": [
    "from sklearn.metrics import mean_squared_error, r2_score\n",
    "\n",
    "# Make predictions on the test data\n",
    "y_pred = lstm_model.predict(X_test)\n",
    "\n",
    "# Flatten the predicted and actual values\n",
    "y_pred = y_pred.flatten()\n",
    "y_test = y_test.flatten()\n",
    "\n",
    "# Calculate RMSE\n",
    "rmse = np.sqrt(mean_squared_error(y_test, y_pred))\n",
    "\n",
    "# Calculate R2 score\n",
    "r2 = r2_score(y_test, y_pred)\n",
    "\n",
    "mape = np.mean(np.abs((y_test - y_pred) / y_test)) * 100\n",
    "\n",
    "print(\"MAPE:\", mape)\n",
    "\n",
    "print(\"RMSE:\", rmse)\n",
    "print(\"R2 Score:\", r2)"
   ]
  },
  {
   "cell_type": "code",
   "execution_count": 53,
   "id": "c2daf47c",
   "metadata": {},
   "outputs": [
    {
     "data": {
      "image/png": "[encoded data removed]",
      "text/plain": [
       "<Figure size 432x288 with 1 Axes>"
      ]
     },
     "metadata": {
      "needs_background": "light"
     },
     "output_type": "display_data"
    }
   ],
   "source": [
    "# Plot the behavior of loss and accuracy with epochs\n",
    "plt.plot(hist2.history['loss'], label='train_loss')\n",
    "plt.title('Model performance')\n",
    "plt.xlabel('Epochs')\n",
    "plt.ylabel('Loss')\n",
    "plt.legend()\n",
    "plt.show()"
   ]
  },
  {
   "cell_type": "code",
   "execution_count": 56,
   "id": "f179193c",
   "metadata": {},
   "outputs": [
    {
     "data": {
      "image/png": "[encoded data removed]",
      "text/plain": [
       "<Figure size 1080x576 with 1 Axes>"
      ]
     },
     "metadata": {
      "needs_background": "light"
     },
     "output_type": "display_data"
    }
   ],
   "source": [
    "plt.figure(figsize=(15, 8))\n",
    "plt.plot(y_test, label='True')\n",
    "plt.plot(y_pred, label='LSTM')\n",
    "plt.title(\"LSTM's Prediction\")\n",
    "plt.xlabel('Observation')\n",
    "plt.ylabel('Close scaled')\n",
    "plt.legend()\n",
    "plt.show();"
   ]
  },
  {
   "cell_type": "markdown",
   "id": "4ebc26fa",
   "metadata": {},
   "source": [
    "As per the plotted graph of predicted and actual stock prices, predicted curve is approximately following the actual line and smooth, it typically indicates that the model has captured the underlying patterns and trends in the data effectively. A smooth predicted curve suggests that the model is able to make reasonably accurate predictions and is capable of capturing the overall behavior and dynamics of the time period. It suggests that the model is able to generalize well and produce coherent predictions that align with the underlying patterns observed in the historical data. From the plot, it is evident to a certain extent that it is not underfitting or overfitting.\n",
    "From the quantitative evaluation of the model's performance using metrics, the mape was found to be around 2.9%. So It can be inferred that the developed lstm model was effective in predicting the stock price well."
   ]
  },
  {
   "cell_type": "code",
   "execution_count": null,
   "id": "1bd50565",
   "metadata": {},
   "outputs": [],
   "source": []
  }
 ],
 "metadata": {
  "kernelspec": {
   "display_name": "Python 3 (ipykernel)",
   "language": "python",
   "name": "python3"
  },
  "language_info": {
   "codemirror_mode": {
    "name": "ipython",
    "version": 3
   },
   "file_extension": ".py",
   "mimetype": "text/x-python",
   "name": "python",
   "nbconvert_exporter": "python",
   "pygments_lexer": "ipython3",
   "version": "3.9.12"
  }
 },
 "nbformat": 4,
 "nbformat_minor": 5
}
